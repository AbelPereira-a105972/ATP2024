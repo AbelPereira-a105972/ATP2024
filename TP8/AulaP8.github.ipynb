{
 "cells": [
  {
   "cell_type": "markdown",
   "id": "4193a91b",
   "metadata": {},
   "source": [
    "## TPC8: Teste de aferição\n",
    "\n",
    "Resolva os problemas apresentados a seguir."
   ]
  },
  {
   "cell_type": "markdown",
   "id": "ecb162bd",
   "metadata": {},
   "source": [
    "### tpc-1. Especifique as seguintes listas em compreensão:"
   ]
  },
  {
   "cell_type": "markdown",
   "id": "4e758271",
   "metadata": {},
   "source": [
    "#### a) Lista formada pelos elementos que não são comuns às duas listas:"
   ]
  },
  {
   "cell_type": "code",
   "execution_count": null,
   "id": "7f207e6b",
   "metadata": {},
   "outputs": [],
   "source": [
    "def comuns(lista1,lista2):\n",
    "    res = []\n",
    "    for elem in lista1:\n",
    "        for elem2 in lista2:\n",
    "            if elem == elem2:\n",
    "                res.append(elem)\n",
    "    return res\n",
    "\n",
    "lista1 = [1, 2, 3, 4, 5]\n",
    "lista2 = [4, 5, 6, 7, 8] \n",
    "comuns(lista1,lista2)"
   ]
  },
  {
   "cell_type": "code",
   "execution_count": null,
   "id": "4a193979",
   "metadata": {},
   "outputs": [],
   "source": [
    "def ncomuns(lista1,lista2):\n",
    "    res = []\n",
    "    for elem in lista1:\n",
    "        if elem not in lista2:\n",
    "            res.append(elem)\n",
    "    for elem2 in lista2:\n",
    "        if elem2 not in lista1:\n",
    "            res.append(elem2)\n",
    "    return res\n",
    "\n",
    "lista1 = [1, 2, 3, 4, 5]\n",
    "lista2 = [4, 5, 6, 7, 8] \n",
    "ncomuns(lista1,lista2)"
   ]
  },
  {
   "cell_type": "code",
   "execution_count": null,
   "id": "1fe48423",
   "metadata": {},
   "outputs": [],
   "source": [
    "lista1 = [1, 2, 3, 4, 5]\n",
    "lista2 = [4, 5, 6, 7, 8]  \n",
    "ncomuns = [x for x in lista1 + lista2 if (x in lista1) != (x in lista2)]\n",
    "# Resultado esperado: [1,2,3,7,8]\n",
    "print(ncomuns)"
   ]
  },
  {
   "cell_type": "markdown",
   "id": "0ded2f03",
   "metadata": {},
   "source": [
    "#### b) Lista formada pelas palavras do texto compostas por mais de 3 letras:"
   ]
  },
  {
   "cell_type": "code",
   "execution_count": null,
   "id": "dc44f847",
   "metadata": {},
   "outputs": [],
   "source": [
    "texto = \"\"\"Vivia há já não poucos anos algures num concelho do Ribatejo \n",
    "    um pequeno lavrador e negociante de gado chamado Manuel Peres Vigário\"\"\"\n",
    "\n",
    "lista = [palavra for palavra in texto.split() if (len(palavra)>3)]\n",
    "\n",
    "print(lista)"
   ]
  },
  {
   "cell_type": "code",
   "execution_count": null,
   "id": "4ae7f5d0",
   "metadata": {},
   "outputs": [],
   "source": [
    "def lista(nome):\n",
    "    res = []\n",
    "    nome = nome.strip().split()\n",
    "    for elem in nome:\n",
    "        if len(elem)>3:\n",
    "            res.append(elem)\n",
    "    return res\n",
    "\n",
    "\n",
    "texto = \"\"\"Vivia há já não poucos anos algures num concelho do Ribatejo \n",
    "    um pequeno lavrador e negociante de gado chamado Manuel Peres Vigário\"\"\"\n",
    "\n",
    "print(lista(texto))\n",
    "\n",
    "# Resultado esperado: ['Vivia', 'poucos', 'anos', 'algures', 'concelho', ...]"
   ]
  },
  {
   "cell_type": "markdown",
   "id": "ecf72afd",
   "metadata": {},
   "source": [
    "#### c) Lista formada por pares do tipo (índice, valor) com os valores da lista dada:"
   ]
  },
  {
   "cell_type": "code",
   "execution_count": null,
   "id": "02e14ecc",
   "metadata": {},
   "outputs": [],
   "source": [
    "lista = ['anaconda', 'burro', 'cavalo', 'macaco']\n",
    "indice = [(i+1, elem) for i,elem in enumerate(lista)]\n",
    "# Resultado esperado: [(1,'anaconda'), (2,'burro'), (3,'cavalo'), (4,'macaco')]\n",
    "print(indice)"
   ]
  },
  {
   "cell_type": "code",
   "execution_count": null,
   "id": "876b2cc3",
   "metadata": {},
   "outputs": [],
   "source": [
    "def tipo(lista):\n",
    "    res = []\n",
    "    for i,elem in enumerate(lista):\n",
    "        tuplo = i+1, elem\n",
    "        res.append(tuplo)\n",
    "    return res\n",
    "\n",
    "\n",
    "lista = ['anaconda', 'burro', 'cavalo', 'macaco']\n",
    "tipo(lista)\n",
    "# Resultado esperado: [(1,'anaconda'), (2,'burro'), (3,'cavalo'), (4,'macaco')]"
   ]
  },
  {
   "cell_type": "markdown",
   "id": "28cb3dc4",
   "metadata": {},
   "source": [
    "### tpc-2. À semelhança do que foi feito nas aulas, realize as seguintes tarefas:"
   ]
  },
  {
   "cell_type": "markdown",
   "id": "5d3f1dbe",
   "metadata": {},
   "source": [
    "#### a) Especifique uma função que dada uma string e uma substring não vazia, calcula  o número de vezes em que a substring aparece na string, sem que haja sobreposição de substrings:"
   ]
  },
  {
   "cell_type": "code",
   "execution_count": null,
   "id": "4458c7bc",
   "metadata": {},
   "outputs": [],
   "source": [
    "def strCount(s, subs):\n",
    "    i = 0\n",
    "    res = 0\n",
    "    while i < len(s):\n",
    "        if subs == s[i: i + len(subs)]:\n",
    "            res = res + 1\n",
    "            i = i + len(subs)\n",
    "        else:\n",
    "            i = i + 1\n",
    "    return res\n",
    "\n",
    "print(strCount(\"abeljoaoabeabellabelmiguelabeabeabel\", \"abel\"))\n",
    "print(strCount(\"catcowcat\", \"cat\")) # --> 2\n",
    "print(strCount(\"catcowcat\", \"cow\")) # --> 1\n",
    "print(strCount(\"catcowcat\", \"dog\")) # --> 0"
   ]
  },
  {
   "cell_type": "markdown",
   "id": "e6db31d7",
   "metadata": {},
   "source": [
    "#### b) Especifique uma função que recebe uma lista de números inteiros positivos e devolve o menor produto que for possível calcular multiplicando os 3 menores inteiros da lista:"
   ]
  },
  {
   "cell_type": "code",
   "execution_count": null,
   "id": "2b5ad344",
   "metadata": {},
   "outputs": [],
   "source": [
    "def produtoM3(lista):\n",
    "    lista.sort()\n",
    "    res = lista[0]*lista[1]*lista[2]\n",
    "    return f\"{res} = {lista[0]}*{lista[1]}*{lista[2]}\"\n",
    "\n",
    "print(produtoM3([12,3,7,10,12,8,9]))\n",
    "# Resultado esperado: 168 = 3 * 7 * 8\n",
    "\n",
    "def produtosM32(lista):\n",
    "    menor1=menor2=menor3= lista[0]\n",
    "    for num in lista[1:]:\n",
    "        if num < menor1:\n",
    "            menor1 = num\n",
    "        elif num < menor2 and num != menor1:\n",
    "            menor2 = num\n",
    "        elif num < menor3 and num != menor1 and num != menor2:\n",
    "            menor3 = num\n",
    "    return f\"{menor1*menor2*menor3} = {menor1}*{menor2}*{menor3}\"\n",
    "\n",
    "\n",
    "print(produtosM32([12,3,7,10,12,8,9]))"
   ]
  },
  {
   "cell_type": "markdown",
   "id": "6698b337",
   "metadata": {},
   "source": [
    "#### c) Especifique uma função que dado um número inteiro positivo, repetidamente adiciona os seus dígitos até obter apenas um dígito que é retornado como resultado:"
   ]
  },
  {
   "cell_type": "code",
   "execution_count": null,
   "id": "54cef309",
   "metadata": {},
   "outputs": [],
   "source": [
    "# Input: 38\n",
    "# Output: 2\n",
    "# Explicação: 3 + 8 = 11, 1 + 1 = 2.\n",
    "\n",
    "# Input: 777\n",
    "# Output: 3\n",
    "# Explicação: 7 + 7 + 7 = 21, 2 + 1 = 3.\n",
    "\n",
    "def reduxInt(n):\n",
    "    while n >= 10:\n",
    "        soma = 0\n",
    "        for num in str(n):\n",
    "            soma = int(num) + soma\n",
    "        n = soma\n",
    "    return n\n",
    "\n",
    "print(reduxInt(38))\n",
    "print(reduxInt(777))"
   ]
  },
  {
   "cell_type": "markdown",
   "id": "4a47b6e8",
   "metadata": {},
   "source": [
    "#### d) Especifique uma função que recebe duas strings, `string1` e `string2`, e devolve o índice da primeira ocorrência de `string2` em `string1`, caso não ocorra nenhuma vez a função deverá retornar `-1`:"
   ]
  },
  {
   "cell_type": "code",
   "execution_count": null,
   "id": "f0f4c2a8",
   "metadata": {},
   "outputs": [],
   "source": [
    "# Invocação: indexOf(\"Hoje está um belo dia de sol!\", \"belo\")\n",
    "# Resultado: 13\n",
    "\n",
    "# Invocação: indexOf(\"Hoje está um belo dia de sol!\", \"chuva\")\n",
    "# Resultado: -1\n",
    "\n",
    "def myIndexOf(s1, s2):\n",
    "    cond = True\n",
    "    i = 0\n",
    "    res = -1\n",
    "    while i < len(s1) and cond:\n",
    "        if s2 == s1[i:i+len(s2)]:\n",
    "            res = i\n",
    "            cond=False\n",
    "        i = i + 1\n",
    "    return res\n",
    "\n",
    "print(myIndexOf(\"Hoje está um belo dia de sol!\", \"H\"))\n",
    "print(myIndexOf(\"Hoje está um belo dia de sol!\", \"chuva\"))"
   ]
  },
  {
   "cell_type": "markdown",
   "id": "7cd572fc",
   "metadata": {},
   "source": [
    "### tpc-3. A Rede Social\n",
    "\n",
    "Considere que a informação sobre uma rede social está armazenada numa lista de dicionários.\n",
    "\n",
    "Cada dicionário, correspondente a um _post_ e tem chaves `id`, `conteudo`, `autor`, `dataCriacao` e `comentarios`.\n",
    "Por sua vez, `comentarios` é uma lista de dicionários com chaves `comentario` e `autor`.\n",
    "\n",
    "Considere o seguinte exemplo:\n",
    "\n",
    "``` \n",
    "    MyFaceBook = [{\n",
    "        'id': 'p1', \n",
    "        'conteudo': 'A tarefa de avaliação é talvez a mais ingrata das tarefas que um professor\n",
    "    tem de realizar...', \n",
    "        'autor': 'jcr', \n",
    "        'dataCriacao': '2023-07-20', \n",
    "        'comentarios': [\n",
    "            {\n",
    "                'comentario': 'Completamente de acordo...',\n",
    "                'autor': 'prh'\n",
    "            },\n",
    "            {\n",
    "                'comentario': 'Mas há quem goste...',\n",
    "                'autor': 'jj'\n",
    "            }\n",
    "        ]},\n",
    "        {\n",
    "            'id': 'p2',\n",
    "            ...\n",
    "        },\n",
    "        ...\n",
    "        ]\n",
    "```"
   ]
  },
  {
   "cell_type": "markdown",
   "id": "89afc758",
   "metadata": {},
   "source": [
    "Defina as seguintes funções de manipulação e consulta da rede social:"
   ]
  },
  {
   "cell_type": "code",
   "execution_count": null,
   "id": "28da0185",
   "metadata": {},
   "outputs": [],
   "source": [
    "MyFaceBook = [{\n",
    "    'id': 'p1', \n",
    "    'conteudo': 'A tarefa de avaliação é talvez a mais ingrata das tarefas que um professor tem de realizar...', \n",
    "    'autor': 'jcr', \n",
    "    'dataCriacao': '2023-07-20', \n",
    "    'comentarios': [\n",
    "        {\n",
    "        'comentario': 'Completamente de acordo...',\n",
    "        'autor': 'prh'\n",
    "        },\n",
    "        {\n",
    "        'comentario': 'Mas há quem goste...',\n",
    "        'autor': 'jj'\n",
    "        }\n",
    "    ]},\n",
    "    {\n",
    "    'id': 'p2', \n",
    "    'conteudo': 'testando coisas.', \n",
    "    'autor': 'ltr', \n",
    "    'dataCriacao': '2023-07-21', \n",
    "    'comentarios': [\n",
    "        {\n",
    "        'comentario': 'testando muito',\n",
    "        'autor': 'prh'\n",
    "        },\n",
    "        {\n",
    "        'comentario': 'Mas há quem goste...',\n",
    "        'autor': 'jj'\n",
    "        }\n",
    "    ]},\n",
    "    {\n",
    "    'id': 'p3', \n",
    "    'conteudo': 'eu nao sei', \n",
    "    'autor': 'jcr', \n",
    "    'dataCriacao': '2023-07-22', \n",
    "    'comentarios': [\n",
    "        {\n",
    "        'comentario': 'Absolutamente!',\n",
    "        'autor': 'prh'\n",
    "        },\n",
    "        {\n",
    "        'comentario': 'Mas há quem goste...',\n",
    "        'autor': 'jj'\n",
    "    }\n",
    "    ]}\n",
    "]"
   ]
  },
  {
   "cell_type": "markdown",
   "id": "1aec6cd8",
   "metadata": {},
   "source": [
    "#### a) `quantosPost`, que indica quantos posts estão registados:"
   ]
  },
  {
   "cell_type": "code",
   "execution_count": null,
   "id": "39a813ee",
   "metadata": {},
   "outputs": [],
   "source": [
    "def quantosPost(redeSocial):\n",
    "    res = 0\n",
    "    for posts in redeSocial:\n",
    "        res = res + 1\n",
    "    return res\n",
    "\n",
    "quantosPost(MyFaceBook)"
   ]
  },
  {
   "cell_type": "markdown",
   "id": "2156a0c8",
   "metadata": {},
   "source": [
    "#### b)  `postsAutor`, que devolve a lista de posts de um determinado autor:"
   ]
  },
  {
   "cell_type": "code",
   "execution_count": null,
   "id": "8a5a2a41",
   "metadata": {},
   "outputs": [],
   "source": [
    "def postsAutor(redeSocial, autor):\n",
    "    for post in redeSocial:\n",
    "        if post.get(\"autor\") == autor:\n",
    "            print(post)\n",
    "    return \n",
    "\n",
    "postsAutor(MyFaceBook,\"jcr\")"
   ]
  },
  {
   "cell_type": "markdown",
   "id": "12f9126b",
   "metadata": {},
   "source": [
    "#### c) `autores`, que devolve a lista de autores de posts ordenada alfabeticamente:"
   ]
  },
  {
   "cell_type": "code",
   "execution_count": null,
   "id": "d9dfe30a",
   "metadata": {},
   "outputs": [],
   "source": [
    "def autores(redeSocial):\n",
    "    lista = []\n",
    "    for post in redeSocial:\n",
    "        lista.append(post.get(\"autor\"))\n",
    "    lista.sort()\n",
    "    return lista\n",
    "\n",
    "print(autores(MyFaceBook))\n",
    "\n",
    "def autores2(redeSocial):\n",
    "    lista = list(post.get(\"autor\") for post in redeSocial)\n",
    "    lista.sort()\n",
    "    return lista\n",
    "\n",
    "print(autores2(MyFaceBook))\n",
    "\n",
    "def autores3(redeSocial):\n",
    "    lista = list(post.get(\"autor\") for post in redeSocial)\n",
    "    n = len(lista)\n",
    "    cond = True\n",
    "    while cond:\n",
    "        cond = False\n",
    "        for i in range(n-1):\n",
    "            if lista[i] > lista[i + 1]:\n",
    "                lista[i], lista[i+1] = lista[i+1], lista[i]\n",
    "                cond = True\n",
    "        n = n-1\n",
    "    return lista\n",
    "\n",
    "print(autores3(MyFaceBook))"
   ]
  },
  {
   "cell_type": "markdown",
   "id": "1a0f760b",
   "metadata": {},
   "source": [
    "#### d) `insPost`, que acrescenta um novo post à rede social a partir dos parâmetros recebidos e devolve a nova rede social. \n",
    "    \n",
    "O campo `id` devrá ser calculado a partir dos já existentes, por exemplo, se a rede tiver posts com id `p1`, `p2` e `p3`, o novo `id` deverá ser `p4`."
   ]
  },
  {
   "cell_type": "code",
   "execution_count": null,
   "id": "a00c85e3",
   "metadata": {},
   "outputs": [],
   "source": [
    "def insPost(redeSocial, conteudo, autor, dataCriacao, comentarios):\n",
    "    if redeSocial:\n",
    "        ultimo_id = int((redeSocial[-1][\"id\"][1:]))\n",
    "        novo_id = f\"p{ultimo_id + 1}\"\n",
    "    else: novo_id = \"p1\"\n",
    "    novo_post = {\n",
    "        \"id\": novo_id,\n",
    "        \"conteudo\": conteudo,\n",
    "        \"autor\": autor,\n",
    "        \"dataCriacao\": dataCriacao,\n",
    "        \"comentarios\": comentarios\n",
    "                }\n",
    "    redeSocial.append(novo_post)\n",
    "    return redeSocial\n",
    "\n",
    "conteudo = input(\"conteudo\")\n",
    "autor = input(\"autor\")\n",
    "dataCriacao = input(\"data\")\n",
    "comentarios = [{}]\n",
    "insPost(MyFaceBook, conteudo, autor, dataCriacao, comentarios)"
   ]
  },
  {
   "cell_type": "markdown",
   "id": "65061d0a",
   "metadata": {},
   "source": [
    "#### e)  `remPost`, que remove um post da rede, correspondente ao `id` recebido."
   ]
  },
  {
   "cell_type": "code",
   "execution_count": null,
   "id": "dc1adabc",
   "metadata": {},
   "outputs": [],
   "source": [
    "def remPost(redeSocial, id):\n",
    "    redeSocial = [post for post in redeSocial if post.get(\"id\") != id]\n",
    "    return redeSocial\n",
    "\n",
    "id = input(\"id\")\n",
    "print(remPost(MyFaceBook,id.lower()))\n",
    "\n",
    "def remPost2(redeSocial, id):\n",
    "    for post in redeSocial:\n",
    "        if post.get(\"id\") == id:\n",
    "            redeSocial.remove(post)\n",
    "    return redeSocial\n",
    "\n",
    "id = id[0] + str(int(id[1:]) - 1)\n",
    "print(remPost2(MyFaceBook,id.lower()))"
   ]
  },
  {
   "cell_type": "markdown",
   "id": "de46a635",
   "metadata": {},
   "source": [
    "#### f) `postsPorAutor`, que devolve uma distribuição de posts por autor (à semelhança do que foi feito nas aulas)."
   ]
  },
  {
   "cell_type": "code",
   "execution_count": null,
   "id": "4118730d",
   "metadata": {},
   "outputs": [],
   "source": [
    "def postsPorAutor(redeSocial):\n",
    "    res = {}\n",
    "    for post in redeSocial:\n",
    "        autor = post.get(\"autor\")\n",
    "        if autor in res:\n",
    "               res[autor] = res[autor] + 1\n",
    "        else: res[autor] = 1\n",
    "    return res\n",
    "\n",
    "print(postsPorAutor(MyFaceBook))\n",
    "\n",
    "def postsPorAutor2(redeSocial):\n",
    "    res = {}\n",
    "    for post in redeSocial:\n",
    "        if post[\"autor\"] in res:\n",
    "            res[post[\"autor\"]] = res[post[\"autor\"]] + 1\n",
    "        else: res[post[\"autor\"]] = 1\n",
    "    return res\n",
    "\n",
    "print(postsPorAutor2(MyFaceBook))"
   ]
  },
  {
   "cell_type": "markdown",
   "id": "5b1d7d7a",
   "metadata": {},
   "source": [
    "#### g) `comentadoPor`, que recebe um autor e devolve a lista de posts comentados por esse autor."
   ]
  },
  {
   "cell_type": "code",
   "execution_count": null,
   "id": "a91f2619",
   "metadata": {},
   "outputs": [],
   "source": [
    "def comentadoPor(redeSocial, autor):\n",
    "    res = []\n",
    "    for post in redeSocial:\n",
    "        for comentario in post.get(\"comentarios\"):\n",
    "            if comentario.get(\"autor\") == autor:\n",
    "                res.append(post)\n",
    "    return res\n",
    "\n",
    "comentadoPor(MyFaceBook,\"jj\")"
   ]
  }
 ],
 "metadata": {
  "kernelspec": {
   "display_name": "Python 3",
   "language": "python",
   "name": "python3"
  },
  "language_info": {
   "codemirror_mode": {
    "name": "ipython",
    "version": 3
   },
   "file_extension": ".py",
   "mimetype": "text/x-python",
   "name": "python",
   "nbconvert_exporter": "python",
   "pygments_lexer": "ipython3",
   "version": "3.12.6"
  }
 },
 "nbformat": 4,
 "nbformat_minor": 5
}
